{
 "cells": [
  {
   "cell_type": "code",
   "execution_count": 1,
   "metadata": {},
   "outputs": [
    {
     "data": {
      "text/plain": [
       "'3.5.4 |Continuum Analytics, Inc.| (default, Aug 14 2017, 13:41:13) [MSC v.1900 64 bit (AMD64)]'"
      ]
     },
     "execution_count": 1,
     "metadata": {},
     "output_type": "execute_result"
    }
   ],
   "source": [
    "import sys\n",
    "sys.version"
   ]
  },
  {
   "cell_type": "code",
   "execution_count": 2,
   "metadata": {
    "collapsed": true
   },
   "outputs": [],
   "source": [
    "import pandas as pd\n",
    "import matplotlib.pyplot as plt \n",
    "import numpy as np\n",
    "\n",
    "import datetime as dt\n",
    "from sklearn import linear_model\n",
    "import math"
   ]
  },
  {
   "cell_type": "code",
   "execution_count": 3,
   "metadata": {},
   "outputs": [
    {
     "name": "stderr",
     "output_type": "stream",
     "text": [
      "C:\\Users\\Neville\\Anaconda2\\envs\\python35\\lib\\site-packages\\sklearn\\cross_validation.py:41: DeprecationWarning: This module was deprecated in version 0.18 in favor of the model_selection module into which all the refactored classes and functions are moved. Also note that the interface of the new CV iterators are different from that of this module. This module will be removed in 0.20.\n",
      "  \"This module will be removed in 0.20.\", DeprecationWarning)\n"
     ]
    }
   ],
   "source": [
    "import xgboost as xgb"
   ]
  },
  {
   "cell_type": "code",
   "execution_count": 4,
   "metadata": {
    "collapsed": true
   },
   "outputs": [],
   "source": [
    "train_raw = pd.read_csv('train.csv')"
   ]
  },
  {
   "cell_type": "code",
   "execution_count": 5,
   "metadata": {
    "collapsed": true
   },
   "outputs": [],
   "source": [
    "test = pd.read_csv('test.csv')"
   ]
  },
  {
   "cell_type": "code",
   "execution_count": 6,
   "metadata": {
    "collapsed": true
   },
   "outputs": [],
   "source": [
    "# IMPORTANT\n",
    "test.pickup_datetime = pd.to_datetime(test.pickup_datetime, errors='coerce')\n",
    "# IMPORTANT\n",
    "train_raw.pickup_datetime = pd.to_datetime(train_raw.pickup_datetime, errors='coerce')\n",
    "train_raw.dropoff_datetime = pd.to_datetime(train_raw.dropoff_datetime, errors='coerce')"
   ]
  },
  {
   "cell_type": "code",
   "execution_count": null,
   "metadata": {},
   "outputs": [],
   "source": [
    "train.describe()"
   ]
  },
  {
   "cell_type": "markdown",
   "metadata": {},
   "source": [
    "### From previous notebook, the features with negative coeffs are:\n",
    "* pickup_latitude      float64\n",
    "* dropoff_longitude    float64\n",
    "* dropoff_latitude     float64\n",
    "* dayofweek              int64\n",
    "* time_bin               int64\n",
    "\n",
    "So let's remove outliers from the above latitude and longitude features."
   ]
  },
  {
   "cell_type": "code",
   "execution_count": 7,
   "metadata": {},
   "outputs": [
    {
     "data": {
      "text/plain": [
       "array([  135.,  2643.])"
      ]
     },
     "execution_count": 7,
     "metadata": {},
     "output_type": "execute_result"
    }
   ],
   "source": [
    "# 95% Confident Interval for trip duration\n",
    "np.percentile(train_raw.trip_duration, [2.5,97.5])"
   ]
  },
  {
   "cell_type": "code",
   "execution_count": 8,
   "metadata": {},
   "outputs": [
    {
     "name": "stdout",
     "output_type": "stream",
     "text": [
      "[ 40.67717009  40.79689026]\n",
      "[-74.00972748 -73.86276245]\n"
     ]
    }
   ],
   "source": [
    "# 95% CI for pickup_latitude & long\n",
    "print(np.percentile(train_raw.pickup_latitude, [2.5,97.5]) )\n",
    "print(np.percentile(train_raw.pickup_longitude, [2.5,97.5]) )"
   ]
  },
  {
   "cell_type": "code",
   "execution_count": 9,
   "metadata": {},
   "outputs": [
    {
     "name": "stdout",
     "output_type": "stream",
     "text": [
      "[ 40.67628126  40.80963516]\n",
      "[-74.01110077 -73.87052155]\n"
     ]
    }
   ],
   "source": [
    "# 95% CI for dropoff latitude & long\n",
    "print(np.percentile(train_raw.dropoff_latitude, [2.5,97.5]) )\n",
    "print(np.percentile(train_raw.dropoff_longitude, [2.5,97.5]) )"
   ]
  },
  {
   "cell_type": "code",
   "execution_count": 10,
   "metadata": {},
   "outputs": [
    {
     "data": {
      "text/plain": [
       "id                    1458446\n",
       "vendor_id             1458446\n",
       "pickup_datetime       1458446\n",
       "dropoff_datetime      1458446\n",
       "passenger_count       1458446\n",
       "pickup_longitude      1458446\n",
       "pickup_latitude       1458446\n",
       "dropoff_longitude     1458446\n",
       "dropoff_latitude      1458446\n",
       "store_and_fwd_flag    1458446\n",
       "trip_duration         1458446\n",
       "dtype: int64"
      ]
     },
     "execution_count": 10,
     "metadata": {},
     "output_type": "execute_result"
    }
   ],
   "source": [
    "train_raw.loc[(train_raw.pickup_latitude > 40.5) & (train_raw.pickup_latitude < 40.9) ].count()"
   ]
  },
  {
   "cell_type": "code",
   "execution_count": 11,
   "metadata": {
    "collapsed": true
   },
   "outputs": [],
   "source": [
    "train = train_raw.loc[(train_raw.pickup_latitude > 40.5) & (train_raw.pickup_latitude < 40.9), ]"
   ]
  },
  {
   "cell_type": "code",
   "execution_count": 12,
   "metadata": {
    "collapsed": true
   },
   "outputs": [],
   "source": [
    "train = train.loc[(train.dropoff_latitude > 40.5) & (train.dropoff_latitude < 40.9), ]"
   ]
  },
  {
   "cell_type": "code",
   "execution_count": 13,
   "metadata": {
    "collapsed": true
   },
   "outputs": [],
   "source": [
    "# Now longitude\n",
    "train = train.loc[(train.pickup_longitude > -74) & (train.pickup_longitude < -73.9), ]"
   ]
  },
  {
   "cell_type": "code",
   "execution_count": 14,
   "metadata": {
    "collapsed": true
   },
   "outputs": [],
   "source": [
    "train = train.loc[(train.trip_duration >= 130) & (train.trip_duration < 2645),]"
   ]
  },
  {
   "cell_type": "code",
   "execution_count": 15,
   "metadata": {},
   "outputs": [
    {
     "data": {
      "text/html": [
       "<div>\n",
       "<style>\n",
       "    .dataframe thead tr:only-child th {\n",
       "        text-align: right;\n",
       "    }\n",
       "\n",
       "    .dataframe thead th {\n",
       "        text-align: left;\n",
       "    }\n",
       "\n",
       "    .dataframe tbody tr th {\n",
       "        vertical-align: top;\n",
       "    }\n",
       "</style>\n",
       "<table border=\"1\" class=\"dataframe\">\n",
       "  <thead>\n",
       "    <tr style=\"text-align: right;\">\n",
       "      <th></th>\n",
       "      <th>id</th>\n",
       "      <th>vendor_id</th>\n",
       "      <th>pickup_datetime</th>\n",
       "      <th>dropoff_datetime</th>\n",
       "      <th>passenger_count</th>\n",
       "      <th>pickup_longitude</th>\n",
       "      <th>pickup_latitude</th>\n",
       "      <th>dropoff_longitude</th>\n",
       "      <th>dropoff_latitude</th>\n",
       "      <th>store_and_fwd_flag</th>\n",
       "      <th>trip_duration</th>\n",
       "    </tr>\n",
       "  </thead>\n",
       "  <tbody>\n",
       "    <tr>\n",
       "      <th>0</th>\n",
       "      <td>id2875421</td>\n",
       "      <td>2</td>\n",
       "      <td>2016-03-14 17:24:55</td>\n",
       "      <td>2016-03-14 17:32:30</td>\n",
       "      <td>1</td>\n",
       "      <td>-73.982155</td>\n",
       "      <td>40.767937</td>\n",
       "      <td>-73.964630</td>\n",
       "      <td>40.765602</td>\n",
       "      <td>N</td>\n",
       "      <td>455</td>\n",
       "    </tr>\n",
       "    <tr>\n",
       "      <th>1</th>\n",
       "      <td>id2377394</td>\n",
       "      <td>1</td>\n",
       "      <td>2016-06-12 00:43:35</td>\n",
       "      <td>2016-06-12 00:54:38</td>\n",
       "      <td>1</td>\n",
       "      <td>-73.980415</td>\n",
       "      <td>40.738564</td>\n",
       "      <td>-73.999481</td>\n",
       "      <td>40.731152</td>\n",
       "      <td>N</td>\n",
       "      <td>663</td>\n",
       "    </tr>\n",
       "    <tr>\n",
       "      <th>2</th>\n",
       "      <td>id3858529</td>\n",
       "      <td>2</td>\n",
       "      <td>2016-01-19 11:35:24</td>\n",
       "      <td>2016-01-19 12:10:48</td>\n",
       "      <td>1</td>\n",
       "      <td>-73.979027</td>\n",
       "      <td>40.763939</td>\n",
       "      <td>-74.005333</td>\n",
       "      <td>40.710087</td>\n",
       "      <td>N</td>\n",
       "      <td>2124</td>\n",
       "    </tr>\n",
       "    <tr>\n",
       "      <th>4</th>\n",
       "      <td>id2181028</td>\n",
       "      <td>2</td>\n",
       "      <td>2016-03-26 13:30:55</td>\n",
       "      <td>2016-03-26 13:38:10</td>\n",
       "      <td>1</td>\n",
       "      <td>-73.973053</td>\n",
       "      <td>40.793209</td>\n",
       "      <td>-73.972923</td>\n",
       "      <td>40.782520</td>\n",
       "      <td>N</td>\n",
       "      <td>435</td>\n",
       "    </tr>\n",
       "    <tr>\n",
       "      <th>5</th>\n",
       "      <td>id0801584</td>\n",
       "      <td>2</td>\n",
       "      <td>2016-01-30 22:01:40</td>\n",
       "      <td>2016-01-30 22:09:03</td>\n",
       "      <td>6</td>\n",
       "      <td>-73.982857</td>\n",
       "      <td>40.742195</td>\n",
       "      <td>-73.992081</td>\n",
       "      <td>40.749184</td>\n",
       "      <td>N</td>\n",
       "      <td>443</td>\n",
       "    </tr>\n",
       "  </tbody>\n",
       "</table>\n",
       "</div>"
      ],
      "text/plain": [
       "          id  vendor_id     pickup_datetime    dropoff_datetime  \\\n",
       "0  id2875421          2 2016-03-14 17:24:55 2016-03-14 17:32:30   \n",
       "1  id2377394          1 2016-06-12 00:43:35 2016-06-12 00:54:38   \n",
       "2  id3858529          2 2016-01-19 11:35:24 2016-01-19 12:10:48   \n",
       "4  id2181028          2 2016-03-26 13:30:55 2016-03-26 13:38:10   \n",
       "5  id0801584          2 2016-01-30 22:01:40 2016-01-30 22:09:03   \n",
       "\n",
       "   passenger_count  pickup_longitude  pickup_latitude  dropoff_longitude  \\\n",
       "0                1        -73.982155        40.767937         -73.964630   \n",
       "1                1        -73.980415        40.738564         -73.999481   \n",
       "2                1        -73.979027        40.763939         -74.005333   \n",
       "4                1        -73.973053        40.793209         -73.972923   \n",
       "5                6        -73.982857        40.742195         -73.992081   \n",
       "\n",
       "   dropoff_latitude store_and_fwd_flag  trip_duration  \n",
       "0         40.765602                  N            455  \n",
       "1         40.731152                  N            663  \n",
       "2         40.710087                  N           2124  \n",
       "4         40.782520                  N            435  \n",
       "5         40.749184                  N            443  "
      ]
     },
     "execution_count": 15,
     "metadata": {},
     "output_type": "execute_result"
    }
   ],
   "source": [
    "train.head()"
   ]
  },
  {
   "cell_type": "code",
   "execution_count": 16,
   "metadata": {},
   "outputs": [
    {
     "data": {
      "text/html": [
       "<div>\n",
       "<style>\n",
       "    .dataframe thead tr:only-child th {\n",
       "        text-align: right;\n",
       "    }\n",
       "\n",
       "    .dataframe thead th {\n",
       "        text-align: left;\n",
       "    }\n",
       "\n",
       "    .dataframe tbody tr th {\n",
       "        vertical-align: top;\n",
       "    }\n",
       "</style>\n",
       "<table border=\"1\" class=\"dataframe\">\n",
       "  <thead>\n",
       "    <tr style=\"text-align: right;\">\n",
       "      <th></th>\n",
       "      <th>vendor_id</th>\n",
       "      <th>passenger_count</th>\n",
       "      <th>pickup_longitude</th>\n",
       "      <th>pickup_latitude</th>\n",
       "      <th>dropoff_longitude</th>\n",
       "      <th>dropoff_latitude</th>\n",
       "      <th>trip_duration</th>\n",
       "    </tr>\n",
       "  </thead>\n",
       "  <tbody>\n",
       "    <tr>\n",
       "      <th>count</th>\n",
       "      <td>1.151808e+06</td>\n",
       "      <td>1.151808e+06</td>\n",
       "      <td>1.151808e+06</td>\n",
       "      <td>1.151808e+06</td>\n",
       "      <td>1.151808e+06</td>\n",
       "      <td>1.151808e+06</td>\n",
       "      <td>1.151808e+06</td>\n",
       "    </tr>\n",
       "    <tr>\n",
       "      <th>mean</th>\n",
       "      <td>1.534692e+00</td>\n",
       "      <td>1.660232e+00</td>\n",
       "      <td>-7.397705e+01</td>\n",
       "      <td>4.075672e+01</td>\n",
       "      <td>-7.397390e+01</td>\n",
       "      <td>4.075499e+01</td>\n",
       "      <td>7.448906e+02</td>\n",
       "    </tr>\n",
       "    <tr>\n",
       "      <th>std</th>\n",
       "      <td>4.987952e-01</td>\n",
       "      <td>1.312826e+00</td>\n",
       "      <td>1.489399e-02</td>\n",
       "      <td>2.183101e-02</td>\n",
       "      <td>2.934384e-02</td>\n",
       "      <td>2.959476e-02</td>\n",
       "      <td>4.687128e+02</td>\n",
       "    </tr>\n",
       "    <tr>\n",
       "      <th>min</th>\n",
       "      <td>1.000000e+00</td>\n",
       "      <td>0.000000e+00</td>\n",
       "      <td>-7.399999e+01</td>\n",
       "      <td>4.053193e+01</td>\n",
       "      <td>-7.447315e+01</td>\n",
       "      <td>4.053136e+01</td>\n",
       "      <td>1.300000e+02</td>\n",
       "    </tr>\n",
       "    <tr>\n",
       "      <th>25%</th>\n",
       "      <td>1.000000e+00</td>\n",
       "      <td>1.000000e+00</td>\n",
       "      <td>-7.398861e+01</td>\n",
       "      <td>4.074400e+01</td>\n",
       "      <td>-7.399002e+01</td>\n",
       "      <td>4.074009e+01</td>\n",
       "      <td>3.920000e+02</td>\n",
       "    </tr>\n",
       "    <tr>\n",
       "      <th>50%</th>\n",
       "      <td>2.000000e+00</td>\n",
       "      <td>1.000000e+00</td>\n",
       "      <td>-7.398013e+01</td>\n",
       "      <td>4.075738e+01</td>\n",
       "      <td>-7.397863e+01</td>\n",
       "      <td>4.075677e+01</td>\n",
       "      <td>6.290000e+02</td>\n",
       "    </tr>\n",
       "    <tr>\n",
       "      <th>75%</th>\n",
       "      <td>2.000000e+00</td>\n",
       "      <td>2.000000e+00</td>\n",
       "      <td>-7.396795e+01</td>\n",
       "      <td>4.077001e+01</td>\n",
       "      <td>-7.396252e+01</td>\n",
       "      <td>4.077209e+01</td>\n",
       "      <td>9.800000e+02</td>\n",
       "    </tr>\n",
       "    <tr>\n",
       "      <th>max</th>\n",
       "      <td>2.000000e+00</td>\n",
       "      <td>6.000000e+00</td>\n",
       "      <td>-7.390001e+01</td>\n",
       "      <td>4.089445e+01</td>\n",
       "      <td>-7.267115e+01</td>\n",
       "      <td>4.089996e+01</td>\n",
       "      <td>2.644000e+03</td>\n",
       "    </tr>\n",
       "  </tbody>\n",
       "</table>\n",
       "</div>"
      ],
      "text/plain": [
       "          vendor_id  passenger_count  pickup_longitude  pickup_latitude  \\\n",
       "count  1.151808e+06     1.151808e+06      1.151808e+06     1.151808e+06   \n",
       "mean   1.534692e+00     1.660232e+00     -7.397705e+01     4.075672e+01   \n",
       "std    4.987952e-01     1.312826e+00      1.489399e-02     2.183101e-02   \n",
       "min    1.000000e+00     0.000000e+00     -7.399999e+01     4.053193e+01   \n",
       "25%    1.000000e+00     1.000000e+00     -7.398861e+01     4.074400e+01   \n",
       "50%    2.000000e+00     1.000000e+00     -7.398013e+01     4.075738e+01   \n",
       "75%    2.000000e+00     2.000000e+00     -7.396795e+01     4.077001e+01   \n",
       "max    2.000000e+00     6.000000e+00     -7.390001e+01     4.089445e+01   \n",
       "\n",
       "       dropoff_longitude  dropoff_latitude  trip_duration  \n",
       "count       1.151808e+06      1.151808e+06   1.151808e+06  \n",
       "mean       -7.397390e+01      4.075499e+01   7.448906e+02  \n",
       "std         2.934384e-02      2.959476e-02   4.687128e+02  \n",
       "min        -7.447315e+01      4.053136e+01   1.300000e+02  \n",
       "25%        -7.399002e+01      4.074009e+01   3.920000e+02  \n",
       "50%        -7.397863e+01      4.075677e+01   6.290000e+02  \n",
       "75%        -7.396252e+01      4.077209e+01   9.800000e+02  \n",
       "max        -7.267115e+01      4.089996e+01   2.644000e+03  "
      ]
     },
     "execution_count": 16,
     "metadata": {},
     "output_type": "execute_result"
    }
   ],
   "source": [
    "train.describe()"
   ]
  },
  {
   "cell_type": "markdown",
   "metadata": {},
   "source": [
    "Note: still have some apparent outliers for dropoff_longitude, dropoff_latitude and trip_duration"
   ]
  },
  {
   "cell_type": "code",
   "execution_count": null,
   "metadata": {
    "collapsed": true
   },
   "outputs": [],
   "source": [
    "train[[\"pickup_datetime\", \"dropoff_datetime\", \"trip_duration\"]].head()"
   ]
  },
  {
   "cell_type": "code",
   "execution_count": null,
   "metadata": {
    "collapsed": true
   },
   "outputs": [],
   "source": [
    "train.dtypes"
   ]
  },
  {
   "cell_type": "code",
   "execution_count": null,
   "metadata": {
    "collapsed": true
   },
   "outputs": [],
   "source": [
    "train.trip_duration.hist()\n",
    "plt.show()"
   ]
  },
  {
   "cell_type": "code",
   "execution_count": null,
   "metadata": {
    "collapsed": true
   },
   "outputs": [],
   "source": [
    "train.loc[train.trip_duration > 50000,]"
   ]
  },
  {
   "cell_type": "code",
   "execution_count": 17,
   "metadata": {},
   "outputs": [
    {
     "data": {
      "text/html": [
       "<div>\n",
       "<style>\n",
       "    .dataframe thead tr:only-child th {\n",
       "        text-align: right;\n",
       "    }\n",
       "\n",
       "    .dataframe thead th {\n",
       "        text-align: left;\n",
       "    }\n",
       "\n",
       "    .dataframe tbody tr th {\n",
       "        vertical-align: top;\n",
       "    }\n",
       "</style>\n",
       "<table border=\"1\" class=\"dataframe\">\n",
       "  <thead>\n",
       "    <tr style=\"text-align: right;\">\n",
       "      <th></th>\n",
       "      <th>vendor_id</th>\n",
       "      <th>passenger_count</th>\n",
       "      <th>pickup_longitude</th>\n",
       "      <th>pickup_latitude</th>\n",
       "      <th>dropoff_longitude</th>\n",
       "      <th>dropoff_latitude</th>\n",
       "      <th>trip_duration</th>\n",
       "    </tr>\n",
       "  </thead>\n",
       "  <tbody>\n",
       "    <tr>\n",
       "      <th>count</th>\n",
       "      <td>1.151808e+06</td>\n",
       "      <td>1.151808e+06</td>\n",
       "      <td>1.151808e+06</td>\n",
       "      <td>1.151808e+06</td>\n",
       "      <td>1.151808e+06</td>\n",
       "      <td>1.151808e+06</td>\n",
       "      <td>1.151808e+06</td>\n",
       "    </tr>\n",
       "    <tr>\n",
       "      <th>mean</th>\n",
       "      <td>1.534692e+00</td>\n",
       "      <td>1.660232e+00</td>\n",
       "      <td>-7.397705e+01</td>\n",
       "      <td>4.075672e+01</td>\n",
       "      <td>-7.397390e+01</td>\n",
       "      <td>4.075499e+01</td>\n",
       "      <td>7.448906e+02</td>\n",
       "    </tr>\n",
       "    <tr>\n",
       "      <th>std</th>\n",
       "      <td>4.987952e-01</td>\n",
       "      <td>1.312826e+00</td>\n",
       "      <td>1.489399e-02</td>\n",
       "      <td>2.183101e-02</td>\n",
       "      <td>2.934384e-02</td>\n",
       "      <td>2.959476e-02</td>\n",
       "      <td>4.687128e+02</td>\n",
       "    </tr>\n",
       "    <tr>\n",
       "      <th>min</th>\n",
       "      <td>1.000000e+00</td>\n",
       "      <td>0.000000e+00</td>\n",
       "      <td>-7.399999e+01</td>\n",
       "      <td>4.053193e+01</td>\n",
       "      <td>-7.447315e+01</td>\n",
       "      <td>4.053136e+01</td>\n",
       "      <td>1.300000e+02</td>\n",
       "    </tr>\n",
       "    <tr>\n",
       "      <th>25%</th>\n",
       "      <td>1.000000e+00</td>\n",
       "      <td>1.000000e+00</td>\n",
       "      <td>-7.398861e+01</td>\n",
       "      <td>4.074400e+01</td>\n",
       "      <td>-7.399002e+01</td>\n",
       "      <td>4.074009e+01</td>\n",
       "      <td>3.920000e+02</td>\n",
       "    </tr>\n",
       "    <tr>\n",
       "      <th>50%</th>\n",
       "      <td>2.000000e+00</td>\n",
       "      <td>1.000000e+00</td>\n",
       "      <td>-7.398013e+01</td>\n",
       "      <td>4.075738e+01</td>\n",
       "      <td>-7.397863e+01</td>\n",
       "      <td>4.075677e+01</td>\n",
       "      <td>6.290000e+02</td>\n",
       "    </tr>\n",
       "    <tr>\n",
       "      <th>75%</th>\n",
       "      <td>2.000000e+00</td>\n",
       "      <td>2.000000e+00</td>\n",
       "      <td>-7.396795e+01</td>\n",
       "      <td>4.077001e+01</td>\n",
       "      <td>-7.396252e+01</td>\n",
       "      <td>4.077209e+01</td>\n",
       "      <td>9.800000e+02</td>\n",
       "    </tr>\n",
       "    <tr>\n",
       "      <th>max</th>\n",
       "      <td>2.000000e+00</td>\n",
       "      <td>6.000000e+00</td>\n",
       "      <td>-7.390001e+01</td>\n",
       "      <td>4.089445e+01</td>\n",
       "      <td>-7.267115e+01</td>\n",
       "      <td>4.089996e+01</td>\n",
       "      <td>2.644000e+03</td>\n",
       "    </tr>\n",
       "  </tbody>\n",
       "</table>\n",
       "</div>"
      ],
      "text/plain": [
       "          vendor_id  passenger_count  pickup_longitude  pickup_latitude  \\\n",
       "count  1.151808e+06     1.151808e+06      1.151808e+06     1.151808e+06   \n",
       "mean   1.534692e+00     1.660232e+00     -7.397705e+01     4.075672e+01   \n",
       "std    4.987952e-01     1.312826e+00      1.489399e-02     2.183101e-02   \n",
       "min    1.000000e+00     0.000000e+00     -7.399999e+01     4.053193e+01   \n",
       "25%    1.000000e+00     1.000000e+00     -7.398861e+01     4.074400e+01   \n",
       "50%    2.000000e+00     1.000000e+00     -7.398013e+01     4.075738e+01   \n",
       "75%    2.000000e+00     2.000000e+00     -7.396795e+01     4.077001e+01   \n",
       "max    2.000000e+00     6.000000e+00     -7.390001e+01     4.089445e+01   \n",
       "\n",
       "       dropoff_longitude  dropoff_latitude  trip_duration  \n",
       "count       1.151808e+06      1.151808e+06   1.151808e+06  \n",
       "mean       -7.397390e+01      4.075499e+01   7.448906e+02  \n",
       "std         2.934384e-02      2.959476e-02   4.687128e+02  \n",
       "min        -7.447315e+01      4.053136e+01   1.300000e+02  \n",
       "25%        -7.399002e+01      4.074009e+01   3.920000e+02  \n",
       "50%        -7.397863e+01      4.075677e+01   6.290000e+02  \n",
       "75%        -7.396252e+01      4.077209e+01   9.800000e+02  \n",
       "max        -7.267115e+01      4.089996e+01   2.644000e+03  "
      ]
     },
     "execution_count": 17,
     "metadata": {},
     "output_type": "execute_result"
    }
   ],
   "source": [
    "#%%\n",
    "# Remove rows with excessive drip_duration\n",
    "train = train.loc[train.trip_duration < 50000,]\n",
    "train.describe()"
   ]
  },
  {
   "cell_type": "code",
   "execution_count": null,
   "metadata": {},
   "outputs": [],
   "source": [
    "sum(train.isnull().any(axis=1))"
   ]
  },
  {
   "cell_type": "code",
   "execution_count": null,
   "metadata": {
    "collapsed": true
   },
   "outputs": [],
   "source": [
    "train.dtypes"
   ]
  },
  {
   "cell_type": "code",
   "execution_count": null,
   "metadata": {
    "collapsed": true
   },
   "outputs": [],
   "source": [
    "test.dtypes"
   ]
  },
  {
   "cell_type": "code",
   "execution_count": 18,
   "metadata": {
    "collapsed": true
   },
   "outputs": [],
   "source": [
    "for df in (train, test):\n",
    "    #df[\"year\"] = df.pickup_datetime.dt.year\n",
    "    df[\"month\"] = df.pickup_datetime.dt.month\n",
    "    df[\"day\"] =  df.pickup_datetime.dt.day\n",
    "    df[\"hr\"]  = df.pickup_datetime.dt.hour\n",
    "    df[\"dayofweek\"] = df.pickup_datetime.dt.weekday\n",
    "    # Convert Y/N to 1/0 so that it's numeric.\n",
    "    df['store_and_fwd_flag'] = 1 * (df.store_and_fwd_flag.values == 'Y')\n",
    "    # df['minute'] = df.pickup_datetime.dt.minute\n",
    "    # To prevent negative predictions convert longitudes to absolute numbers... Didn't help\n",
    "    #df['pickup_longitude'] = -1 * df['pickup_longitude']\n",
    "    #df['dropoff_longitude'] = -1 * df['dropoff_longitude']\n",
    "    # Add new feature \"time_bin\" - which 15-min bin did time occur.\n",
    "    df[\"time_bin\"] = df[\"hr\"] * 4 + df.pickup_datetime.dt.minute // 15 + 1\n"
   ]
  },
  {
   "cell_type": "code",
   "execution_count": null,
   "metadata": {
    "collapsed": true
   },
   "outputs": [],
   "source": [
    "train.head()"
   ]
  },
  {
   "cell_type": "code",
   "execution_count": 19,
   "metadata": {
    "collapsed": true
   },
   "outputs": [],
   "source": [
    "# IMPORTANT\n",
    "# Slice out the duration as our response variable\n",
    "y_train = train.trip_duration"
   ]
  },
  {
   "cell_type": "code",
   "execution_count": null,
   "metadata": {
    "collapsed": true
   },
   "outputs": [],
   "source": [
    "y_train.head()"
   ]
  },
  {
   "cell_type": "code",
   "execution_count": 20,
   "metadata": {
    "collapsed": true
   },
   "outputs": [],
   "source": [
    "# IMPORTANT\n",
    "# Remove id and trip_duration from training data\n",
    "# Also had to remove pickup_datetime and dropoff_datetime because linear regression didn't like datetime stamps\n",
    "X_train = train.drop(labels=['id','trip_duration', 'pickup_datetime', 'dropoff_datetime'], axis=1)"
   ]
  },
  {
   "cell_type": "code",
   "execution_count": null,
   "metadata": {
    "collapsed": true
   },
   "outputs": [],
   "source": [
    "X_train.head()"
   ]
  },
  {
   "cell_type": "code",
   "execution_count": null,
   "metadata": {
    "collapsed": true
   },
   "outputs": [],
   "source": [
    "test.head()"
   ]
  },
  {
   "cell_type": "code",
   "execution_count": null,
   "metadata": {
    "collapsed": true
   },
   "outputs": [],
   "source": [
    "test.dtypes"
   ]
  },
  {
   "cell_type": "code",
   "execution_count": 21,
   "metadata": {
    "collapsed": true
   },
   "outputs": [],
   "source": [
    "# IMPORTANT\n",
    "# Slice and remove id's from test data. \n",
    "test_ids = test.id"
   ]
  },
  {
   "cell_type": "code",
   "execution_count": null,
   "metadata": {
    "collapsed": true,
    "scrolled": true
   },
   "outputs": [],
   "source": [
    "test_ids.shape"
   ]
  },
  {
   "cell_type": "code",
   "execution_count": null,
   "metadata": {
    "collapsed": true
   },
   "outputs": [],
   "source": [
    "test_ids.head()"
   ]
  },
  {
   "cell_type": "code",
   "execution_count": 22,
   "metadata": {
    "collapsed": true
   },
   "outputs": [],
   "source": [
    "# IMPORTANT\n",
    "# Also remove pickup_datetime from test data.\n",
    "X_test = test.drop(labels=['id', 'pickup_datetime'], axis=1)"
   ]
  },
  {
   "cell_type": "markdown",
   "metadata": {},
   "source": [
    "Let's try XGBoost"
   ]
  },
  {
   "cell_type": "code",
   "execution_count": 23,
   "metadata": {
    "collapsed": true
   },
   "outputs": [],
   "source": [
    "#%%\n",
    "# Call XGBoost \n",
    "dtrain = xgb.DMatrix(X_train, label=y_train)\n",
    "#%%\n",
    "dtest = xgb.DMatrix(X_test)"
   ]
  },
  {
   "cell_type": "code",
   "execution_count": 24,
   "metadata": {
    "collapsed": true
   },
   "outputs": [],
   "source": [
    "num_round = 10\n",
    "param = {'max_depth':2, 'eta':1, 'silent':1, 'objective':'reg:linear' }\n",
    "#%%\n",
    "# bst = xgb.train( plst, dtrain, num_round, evallist )\n",
    "bst = xgb.train(param, dtrain, num_round)"
   ]
  },
  {
   "cell_type": "code",
   "execution_count": 25,
   "metadata": {
    "collapsed": true
   },
   "outputs": [],
   "source": [
    "predictions =  bst.predict(dtest)"
   ]
  },
  {
   "cell_type": "code",
   "execution_count": 26,
   "metadata": {},
   "outputs": [
    {
     "data": {
      "text/plain": [
       "0"
      ]
     },
     "execution_count": 26,
     "metadata": {},
     "output_type": "execute_result"
    }
   ],
   "source": [
    "# Count negative predictions\n",
    "sum(predictions < 0)"
   ]
  },
  {
   "cell_type": "code",
   "execution_count": 28,
   "metadata": {
    "collapsed": true
   },
   "outputs": [],
   "source": [
    "y_predict = pd.Series(predictions,name='trip_duration')"
   ]
  },
  {
   "cell_type": "code",
   "execution_count": 29,
   "metadata": {},
   "outputs": [
    {
     "data": {
      "text/plain": [
       "count    625134.000000\n",
       "mean        763.514343\n",
       "std         320.332611\n",
       "min          75.562828\n",
       "25%         566.990967\n",
       "50%         679.828979\n",
       "75%         864.914978\n",
       "max        3253.544434\n",
       "Name: trip_duration, dtype: float64"
      ]
     },
     "execution_count": 29,
     "metadata": {},
     "output_type": "execute_result"
    }
   ],
   "source": [
    "y_predict.describe()"
   ]
  },
  {
   "cell_type": "code",
   "execution_count": 30,
   "metadata": {},
   "outputs": [
    {
     "data": {
      "text/plain": [
       "0"
      ]
     },
     "execution_count": 30,
     "metadata": {},
     "output_type": "execute_result"
    }
   ],
   "source": [
    "# Check if any negative predictions\n",
    "sum(y_predict < 0)"
   ]
  },
  {
   "cell_type": "code",
   "execution_count": 31,
   "metadata": {
    "collapsed": true
   },
   "outputs": [],
   "source": [
    "results = pd.concat([test_ids, y_predict], axis=1)"
   ]
  },
  {
   "cell_type": "code",
   "execution_count": 32,
   "metadata": {},
   "outputs": [
    {
     "data": {
      "text/html": [
       "<div>\n",
       "<style>\n",
       "    .dataframe thead tr:only-child th {\n",
       "        text-align: right;\n",
       "    }\n",
       "\n",
       "    .dataframe thead th {\n",
       "        text-align: left;\n",
       "    }\n",
       "\n",
       "    .dataframe tbody tr th {\n",
       "        vertical-align: top;\n",
       "    }\n",
       "</style>\n",
       "<table border=\"1\" class=\"dataframe\">\n",
       "  <thead>\n",
       "    <tr style=\"text-align: right;\">\n",
       "      <th></th>\n",
       "      <th>id</th>\n",
       "      <th>trip_duration</th>\n",
       "    </tr>\n",
       "  </thead>\n",
       "  <tbody>\n",
       "    <tr>\n",
       "      <th>0</th>\n",
       "      <td>id3004672</td>\n",
       "      <td>591.822083</td>\n",
       "    </tr>\n",
       "    <tr>\n",
       "      <th>1</th>\n",
       "      <td>id3505355</td>\n",
       "      <td>1081.255615</td>\n",
       "    </tr>\n",
       "    <tr>\n",
       "      <th>2</th>\n",
       "      <td>id1217141</td>\n",
       "      <td>808.470703</td>\n",
       "    </tr>\n",
       "    <tr>\n",
       "      <th>3</th>\n",
       "      <td>id2150126</td>\n",
       "      <td>656.690979</td>\n",
       "    </tr>\n",
       "    <tr>\n",
       "      <th>4</th>\n",
       "      <td>id1598245</td>\n",
       "      <td>473.344818</td>\n",
       "    </tr>\n",
       "  </tbody>\n",
       "</table>\n",
       "</div>"
      ],
      "text/plain": [
       "          id  trip_duration\n",
       "0  id3004672     591.822083\n",
       "1  id3505355    1081.255615\n",
       "2  id1217141     808.470703\n",
       "3  id2150126     656.690979\n",
       "4  id1598245     473.344818"
      ]
     },
     "execution_count": 32,
     "metadata": {},
     "output_type": "execute_result"
    }
   ],
   "source": [
    "results.head()"
   ]
  },
  {
   "cell_type": "code",
   "execution_count": 33,
   "metadata": {
    "collapsed": true
   },
   "outputs": [],
   "source": [
    "# Write results to file\n",
    "results.to_csv('NSG102.csv', index=None)"
   ]
  },
  {
   "cell_type": "markdown",
   "metadata": {},
   "source": []
  }
 ],
 "metadata": {
  "anaconda-cloud": {},
  "kernelspec": {
   "display_name": "Python [conda env:python35]",
   "language": "python",
   "name": "conda-env-python35-py"
  },
  "language_info": {
   "codemirror_mode": {
    "name": "ipython",
    "version": 3
   },
   "file_extension": ".py",
   "mimetype": "text/x-python",
   "name": "python",
   "nbconvert_exporter": "python",
   "pygments_lexer": "ipython3",
   "version": "3.5.4"
  }
 },
 "nbformat": 4,
 "nbformat_minor": 1
}
