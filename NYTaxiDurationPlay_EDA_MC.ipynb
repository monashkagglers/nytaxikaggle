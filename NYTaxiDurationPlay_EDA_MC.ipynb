{
 "cells": [
  {
   "cell_type": "code",
   "execution_count": 1,
   "metadata": {},
   "outputs": [],
   "source": [
    "# Done so far\n",
    "# ***************\n",
    "#1. basic describe\n",
    "#2. convert to date\n",
    "#3. split date and time for dropoff and pickup, but keep original too\n",
    "#4. merge files with weather data \n",
    "\n",
    "\n",
    "\n",
    "\n",
    "# references\n",
    "# https://beckernick.github.io/neural-network-scratch/ - NN\n",
    "# https://stackoverflow.com/questions/33957720/how-to-convert-column-with-dtype-as-object-to-string-in-pandas-dataframe\n",
    "# https://stackoverflow.com/questions/14745022/pandas-dataframe-how-do-i-split-a-column-into-two\n",
    "# https://stackoverflow.com/questions/32204631/how-to-convert-string-to-datetime-format-in-pandas-python\n",
    "# https://stackoverflow.com/questions/15736995/how-can-i-quickly-estimate-the-distance-between-two-latitude-longitude-points\n",
    "# https://stackoverflow.com/questions/34962104/pandas-how-can-i-use-the-apply-function-for-a-single-column\n",
    "\n",
    "import numpy as np\n",
    "import sklearn as sk\n",
    "import pandas as pd\n",
    "\n",
    "import csv\n",
    "from pprint import pprint\n",
    "\n",
    "# for trying out algos -try nn\n",
    "# will also try regression, ridge regression etc\n",
    "import tensorflow as tf\n",
    "from sklearn.model_selection import train_test_split\n",
    "import matplotlib.pyplot as plt\n",
    "%matplotlib inline"
   ]
  },
  {
   "cell_type": "code",
   "execution_count": 2,
   "metadata": {},
   "outputs": [],
   "source": [
    "# read n train data\n",
    "train = pd.read_csv('train.csv')"
   ]
  },
  {
   "cell_type": "code",
   "execution_count": 3,
   "metadata": {},
   "outputs": [
    {
     "name": "stdout",
     "output_type": "stream",
     "text": [
      "          id  vendor_id      pickup_datetime     dropoff_datetime  \\\n",
      "0  id2875421          2  2016-03-14 17:24:55  2016-03-14 17:32:30   \n",
      "1  id2377394          1  2016-06-12 00:43:35  2016-06-12 00:54:38   \n",
      "2  id3858529          2  2016-01-19 11:35:24  2016-01-19 12:10:48   \n",
      "3  id3504673          2  2016-04-06 19:32:31  2016-04-06 19:39:40   \n",
      "4  id2181028          2  2016-03-26 13:30:55  2016-03-26 13:38:10   \n",
      "\n",
      "   passenger_count  pickup_longitude  pickup_latitude  dropoff_longitude  \\\n",
      "0                1        -73.982155        40.767937         -73.964630   \n",
      "1                1        -73.980415        40.738564         -73.999481   \n",
      "2                1        -73.979027        40.763939         -74.005333   \n",
      "3                1        -74.010040        40.719971         -74.012268   \n",
      "4                1        -73.973053        40.793209         -73.972923   \n",
      "\n",
      "   dropoff_latitude store_and_fwd_flag  trip_duration  \n",
      "0         40.765602                  N            455  \n",
      "1         40.731152                  N            663  \n",
      "2         40.710087                  N           2124  \n",
      "3         40.706718                  N            429  \n",
      "4         40.782520                  N            435  \n",
      "(1458644, 11)\n",
      "          vendor_id  passenger_count  pickup_longitude  pickup_latitude  \\\n",
      "count  1.458644e+06     1.458644e+06      1.458644e+06     1.458644e+06   \n",
      "mean   1.534950e+00     1.664530e+00     -7.397349e+01     4.075092e+01   \n",
      "std    4.987772e-01     1.314242e+00      7.090186e-02     3.288119e-02   \n",
      "min    1.000000e+00     0.000000e+00     -1.219333e+02     3.435970e+01   \n",
      "25%    1.000000e+00     1.000000e+00     -7.399187e+01     4.073735e+01   \n",
      "50%    2.000000e+00     1.000000e+00     -7.398174e+01     4.075410e+01   \n",
      "75%    2.000000e+00     2.000000e+00     -7.396733e+01     4.076836e+01   \n",
      "max    2.000000e+00     9.000000e+00     -6.133553e+01     5.188108e+01   \n",
      "\n",
      "       dropoff_longitude  dropoff_latitude  trip_duration  \n",
      "count       1.458644e+06      1.458644e+06   1.458644e+06  \n",
      "mean       -7.397342e+01      4.075180e+01   9.594923e+02  \n",
      "std         7.064327e-02      3.589056e-02   5.237432e+03  \n",
      "min        -1.219333e+02      3.218114e+01   1.000000e+00  \n",
      "25%        -7.399133e+01      4.073588e+01   3.970000e+02  \n",
      "50%        -7.397975e+01      4.075452e+01   6.620000e+02  \n",
      "75%        -7.396301e+01      4.076981e+01   1.075000e+03  \n",
      "max        -6.133553e+01      4.392103e+01   3.526282e+06  \n",
      "id                     object\n",
      "vendor_id               int64\n",
      "pickup_datetime        object\n",
      "dropoff_datetime       object\n",
      "passenger_count         int64\n",
      "pickup_longitude      float64\n",
      "pickup_latitude       float64\n",
      "dropoff_longitude     float64\n",
      "dropoff_latitude      float64\n",
      "store_and_fwd_flag     object\n",
      "trip_duration           int64\n",
      "dtype: object\n"
     ]
    }
   ],
   "source": [
    "# high level data \n",
    "print(train.head())\n",
    "print(train.shape)\n",
    "print(train.describe())\n",
    "print(train.dtypes)"
   ]
  },
  {
   "cell_type": "code",
   "execution_count": 4,
   "metadata": {},
   "outputs": [
    {
     "name": "stdout",
     "output_type": "stream",
     "text": [
      "id                     object\n",
      "vendor_id               int64\n",
      "pickup_datetime        object\n",
      "dropoff_datetime       object\n",
      "passenger_count         int64\n",
      "pickup_longitude      float64\n",
      "pickup_latitude       float64\n",
      "dropoff_longitude     float64\n",
      "dropoff_latitude      float64\n",
      "store_and_fwd_flag     object\n",
      "trip_duration           int64\n",
      "dtype: object\n"
     ]
    },
    {
     "data": {
      "text/html": [
       "<div>\n",
       "<style>\n",
       "    .dataframe thead tr:only-child th {\n",
       "        text-align: right;\n",
       "    }\n",
       "\n",
       "    .dataframe thead th {\n",
       "        text-align: left;\n",
       "    }\n",
       "\n",
       "    .dataframe tbody tr th {\n",
       "        vertical-align: top;\n",
       "    }\n",
       "</style>\n",
       "<table border=\"1\" class=\"dataframe\">\n",
       "  <thead>\n",
       "    <tr style=\"text-align: right;\">\n",
       "      <th></th>\n",
       "      <th>id</th>\n",
       "      <th>vendor_id</th>\n",
       "      <th>pickup_datetime</th>\n",
       "      <th>dropoff_datetime</th>\n",
       "      <th>passenger_count</th>\n",
       "      <th>pickup_longitude</th>\n",
       "      <th>pickup_latitude</th>\n",
       "      <th>dropoff_longitude</th>\n",
       "      <th>dropoff_latitude</th>\n",
       "      <th>store_and_fwd_flag</th>\n",
       "      <th>trip_duration</th>\n",
       "      <th>dropoff_date</th>\n",
       "      <th>dropoff_time</th>\n",
       "      <th>pickup_date</th>\n",
       "      <th>pickup_time</th>\n",
       "    </tr>\n",
       "  </thead>\n",
       "  <tbody>\n",
       "    <tr>\n",
       "      <th>0</th>\n",
       "      <td>id2875421</td>\n",
       "      <td>2</td>\n",
       "      <td>2016-03-14 17:24:55</td>\n",
       "      <td>2016-03-14 17:32:30</td>\n",
       "      <td>1</td>\n",
       "      <td>-73.982155</td>\n",
       "      <td>40.767937</td>\n",
       "      <td>-73.964630</td>\n",
       "      <td>40.765602</td>\n",
       "      <td>N</td>\n",
       "      <td>455</td>\n",
       "      <td>2016-03-14</td>\n",
       "      <td>17:32:30</td>\n",
       "      <td>2016-03-14</td>\n",
       "      <td>17:24:55</td>\n",
       "    </tr>\n",
       "    <tr>\n",
       "      <th>1</th>\n",
       "      <td>id2377394</td>\n",
       "      <td>1</td>\n",
       "      <td>2016-06-12 00:43:35</td>\n",
       "      <td>2016-06-12 00:54:38</td>\n",
       "      <td>1</td>\n",
       "      <td>-73.980415</td>\n",
       "      <td>40.738564</td>\n",
       "      <td>-73.999481</td>\n",
       "      <td>40.731152</td>\n",
       "      <td>N</td>\n",
       "      <td>663</td>\n",
       "      <td>2016-06-12</td>\n",
       "      <td>00:54:38</td>\n",
       "      <td>2016-06-12</td>\n",
       "      <td>00:43:35</td>\n",
       "    </tr>\n",
       "    <tr>\n",
       "      <th>2</th>\n",
       "      <td>id3858529</td>\n",
       "      <td>2</td>\n",
       "      <td>2016-01-19 11:35:24</td>\n",
       "      <td>2016-01-19 12:10:48</td>\n",
       "      <td>1</td>\n",
       "      <td>-73.979027</td>\n",
       "      <td>40.763939</td>\n",
       "      <td>-74.005333</td>\n",
       "      <td>40.710087</td>\n",
       "      <td>N</td>\n",
       "      <td>2124</td>\n",
       "      <td>2016-01-19</td>\n",
       "      <td>12:10:48</td>\n",
       "      <td>2016-01-19</td>\n",
       "      <td>11:35:24</td>\n",
       "    </tr>\n",
       "    <tr>\n",
       "      <th>3</th>\n",
       "      <td>id3504673</td>\n",
       "      <td>2</td>\n",
       "      <td>2016-04-06 19:32:31</td>\n",
       "      <td>2016-04-06 19:39:40</td>\n",
       "      <td>1</td>\n",
       "      <td>-74.010040</td>\n",
       "      <td>40.719971</td>\n",
       "      <td>-74.012268</td>\n",
       "      <td>40.706718</td>\n",
       "      <td>N</td>\n",
       "      <td>429</td>\n",
       "      <td>2016-04-06</td>\n",
       "      <td>19:39:40</td>\n",
       "      <td>2016-04-06</td>\n",
       "      <td>19:32:31</td>\n",
       "    </tr>\n",
       "    <tr>\n",
       "      <th>4</th>\n",
       "      <td>id2181028</td>\n",
       "      <td>2</td>\n",
       "      <td>2016-03-26 13:30:55</td>\n",
       "      <td>2016-03-26 13:38:10</td>\n",
       "      <td>1</td>\n",
       "      <td>-73.973053</td>\n",
       "      <td>40.793209</td>\n",
       "      <td>-73.972923</td>\n",
       "      <td>40.782520</td>\n",
       "      <td>N</td>\n",
       "      <td>435</td>\n",
       "      <td>2016-03-26</td>\n",
       "      <td>13:38:10</td>\n",
       "      <td>2016-03-26</td>\n",
       "      <td>13:30:55</td>\n",
       "    </tr>\n",
       "  </tbody>\n",
       "</table>\n",
       "</div>"
      ],
      "text/plain": [
       "          id  vendor_id      pickup_datetime     dropoff_datetime  \\\n",
       "0  id2875421          2  2016-03-14 17:24:55  2016-03-14 17:32:30   \n",
       "1  id2377394          1  2016-06-12 00:43:35  2016-06-12 00:54:38   \n",
       "2  id3858529          2  2016-01-19 11:35:24  2016-01-19 12:10:48   \n",
       "3  id3504673          2  2016-04-06 19:32:31  2016-04-06 19:39:40   \n",
       "4  id2181028          2  2016-03-26 13:30:55  2016-03-26 13:38:10   \n",
       "\n",
       "   passenger_count  pickup_longitude  pickup_latitude  dropoff_longitude  \\\n",
       "0                1        -73.982155        40.767937         -73.964630   \n",
       "1                1        -73.980415        40.738564         -73.999481   \n",
       "2                1        -73.979027        40.763939         -74.005333   \n",
       "3                1        -74.010040        40.719971         -74.012268   \n",
       "4                1        -73.973053        40.793209         -73.972923   \n",
       "\n",
       "   dropoff_latitude store_and_fwd_flag  trip_duration dropoff_date  \\\n",
       "0         40.765602                  N            455   2016-03-14   \n",
       "1         40.731152                  N            663   2016-06-12   \n",
       "2         40.710087                  N           2124   2016-01-19   \n",
       "3         40.706718                  N            429   2016-04-06   \n",
       "4         40.782520                  N            435   2016-03-26   \n",
       "\n",
       "  dropoff_time pickup_date pickup_time  \n",
       "0     17:32:30  2016-03-14    17:24:55  \n",
       "1     00:54:38  2016-06-12    00:43:35  \n",
       "2     12:10:48  2016-01-19    11:35:24  \n",
       "3     19:39:40  2016-04-06    19:32:31  \n",
       "4     13:38:10  2016-03-26    13:30:55  "
      ]
     },
     "execution_count": 4,
     "metadata": {},
     "output_type": "execute_result"
    }
   ],
   "source": [
    "# split \n",
    "\n",
    "#train['dropoff_datetime'] = train['dropoff_datetime'].astype('str') \n",
    "#train['pickup_datetime'] = train['pickup_datetime'].astype('str') \n",
    "print(train.dtypes)\n",
    "\n",
    "train['dropoff_date'], train['dropoff_time'] = train['dropoff_datetime'].str.split(' ', 1).str\n",
    "train['pickup_date'], train['pickup_time'] = train['pickup_datetime'].str.split(' ', 1).str\n",
    "\n",
    "# https://stackoverflow.com/questions/14745022/pandas-dataframe-how-do-i-split-a-column-into-two\n",
    "train.head()\n",
    "#df['stats'].str[1:-1].str.split(',', expand=True).astype(datetime)"
   ]
  },
  {
   "cell_type": "code",
   "execution_count": 5,
   "metadata": {},
   "outputs": [],
   "source": [
    "# convert to date dtype\n",
    "train['dropoff_datetime'] = pd.to_datetime(train['dropoff_datetime'])\n",
    "train['dropoff_date'] = pd.to_datetime(train['dropoff_date'])\n",
    "train['dropoff_time'] = pd.to_datetime(train['dropoff_time'])\n",
    "train['pickup_datetime'] = pd.to_datetime(train['pickup_datetime'])\n",
    "train['pickup_date'] = pd.to_datetime(train['pickup_date'])\n",
    "train['pickup_time'] = pd.to_datetime(train['pickup_time'])\n"
   ]
  },
  {
   "cell_type": "code",
   "execution_count": 6,
   "metadata": {},
   "outputs": [
    {
     "data": {
      "text/plain": [
       "id                            object\n",
       "vendor_id                      int64\n",
       "pickup_datetime       datetime64[ns]\n",
       "dropoff_datetime      datetime64[ns]\n",
       "passenger_count                int64\n",
       "pickup_longitude             float64\n",
       "pickup_latitude              float64\n",
       "dropoff_longitude            float64\n",
       "dropoff_latitude             float64\n",
       "store_and_fwd_flag            object\n",
       "trip_duration                  int64\n",
       "dropoff_date          datetime64[ns]\n",
       "dropoff_time          datetime64[ns]\n",
       "pickup_date           datetime64[ns]\n",
       "pickup_time           datetime64[ns]\n",
       "dtype: object"
      ]
     },
     "execution_count": 6,
     "metadata": {},
     "output_type": "execute_result"
    }
   ],
   "source": [
    "train.dtypes"
   ]
  },
  {
   "cell_type": "raw",
   "metadata": {},
   "source": [
    "train.head()"
   ]
  },
  {
   "cell_type": "code",
   "execution_count": null,
   "metadata": {
    "collapsed": true
   },
   "outputs": [],
   "source": []
  },
  {
   "cell_type": "code",
   "execution_count": 7,
   "metadata": {},
   "outputs": [],
   "source": [
    "import datetime\n",
    "# create time that rounds to nearest 30 minutes\n",
    "# https://stackoverflow.com/questions/32344533/how-do-i-round-datetime-column-to-nearest-quarter-hour\n",
    "train['pickup_datetime_round_30'] = train['pickup_datetime'].apply(lambda dt: datetime.datetime(dt.year, dt.month, dt.day, dt.hour))\n",
    "train['doproff_datetime_round_30'] = train['dropoff_datetime'].apply(lambda dt: datetime.datetime(dt.year, dt.month, dt.day, dt.hour))\n"
   ]
  },
  {
   "cell_type": "code",
   "execution_count": 8,
   "metadata": {},
   "outputs": [
    {
     "data": {
      "text/html": [
       "<div>\n",
       "<style>\n",
       "    .dataframe thead tr:only-child th {\n",
       "        text-align: right;\n",
       "    }\n",
       "\n",
       "    .dataframe thead th {\n",
       "        text-align: left;\n",
       "    }\n",
       "\n",
       "    .dataframe tbody tr th {\n",
       "        vertical-align: top;\n",
       "    }\n",
       "</style>\n",
       "<table border=\"1\" class=\"dataframe\">\n",
       "  <thead>\n",
       "    <tr style=\"text-align: right;\">\n",
       "      <th></th>\n",
       "      <th>id</th>\n",
       "      <th>vendor_id</th>\n",
       "      <th>pickup_datetime</th>\n",
       "      <th>dropoff_datetime</th>\n",
       "      <th>passenger_count</th>\n",
       "      <th>pickup_longitude</th>\n",
       "      <th>pickup_latitude</th>\n",
       "      <th>dropoff_longitude</th>\n",
       "      <th>dropoff_latitude</th>\n",
       "      <th>store_and_fwd_flag</th>\n",
       "      <th>trip_duration</th>\n",
       "      <th>dropoff_date</th>\n",
       "      <th>dropoff_time</th>\n",
       "      <th>pickup_date</th>\n",
       "      <th>pickup_time</th>\n",
       "      <th>pickup_datetime_round_30</th>\n",
       "      <th>doproff_datetime_round_30</th>\n",
       "    </tr>\n",
       "  </thead>\n",
       "  <tbody>\n",
       "    <tr>\n",
       "      <th>0</th>\n",
       "      <td>id2875421</td>\n",
       "      <td>2</td>\n",
       "      <td>2016-03-14 17:24:55</td>\n",
       "      <td>2016-03-14 17:32:30</td>\n",
       "      <td>1</td>\n",
       "      <td>-73.982155</td>\n",
       "      <td>40.767937</td>\n",
       "      <td>-73.964630</td>\n",
       "      <td>40.765602</td>\n",
       "      <td>N</td>\n",
       "      <td>455</td>\n",
       "      <td>2016-03-14</td>\n",
       "      <td>2017-08-28 17:32:30</td>\n",
       "      <td>2016-03-14</td>\n",
       "      <td>2017-08-28 17:24:55</td>\n",
       "      <td>2016-03-14 17:00:00</td>\n",
       "      <td>2016-03-14 17:00:00</td>\n",
       "    </tr>\n",
       "    <tr>\n",
       "      <th>1</th>\n",
       "      <td>id2377394</td>\n",
       "      <td>1</td>\n",
       "      <td>2016-06-12 00:43:35</td>\n",
       "      <td>2016-06-12 00:54:38</td>\n",
       "      <td>1</td>\n",
       "      <td>-73.980415</td>\n",
       "      <td>40.738564</td>\n",
       "      <td>-73.999481</td>\n",
       "      <td>40.731152</td>\n",
       "      <td>N</td>\n",
       "      <td>663</td>\n",
       "      <td>2016-06-12</td>\n",
       "      <td>2017-08-28 00:54:38</td>\n",
       "      <td>2016-06-12</td>\n",
       "      <td>2017-08-28 00:43:35</td>\n",
       "      <td>2016-06-12 00:00:00</td>\n",
       "      <td>2016-06-12 00:00:00</td>\n",
       "    </tr>\n",
       "    <tr>\n",
       "      <th>2</th>\n",
       "      <td>id3858529</td>\n",
       "      <td>2</td>\n",
       "      <td>2016-01-19 11:35:24</td>\n",
       "      <td>2016-01-19 12:10:48</td>\n",
       "      <td>1</td>\n",
       "      <td>-73.979027</td>\n",
       "      <td>40.763939</td>\n",
       "      <td>-74.005333</td>\n",
       "      <td>40.710087</td>\n",
       "      <td>N</td>\n",
       "      <td>2124</td>\n",
       "      <td>2016-01-19</td>\n",
       "      <td>2017-08-28 12:10:48</td>\n",
       "      <td>2016-01-19</td>\n",
       "      <td>2017-08-28 11:35:24</td>\n",
       "      <td>2016-01-19 11:00:00</td>\n",
       "      <td>2016-01-19 12:00:00</td>\n",
       "    </tr>\n",
       "    <tr>\n",
       "      <th>3</th>\n",
       "      <td>id3504673</td>\n",
       "      <td>2</td>\n",
       "      <td>2016-04-06 19:32:31</td>\n",
       "      <td>2016-04-06 19:39:40</td>\n",
       "      <td>1</td>\n",
       "      <td>-74.010040</td>\n",
       "      <td>40.719971</td>\n",
       "      <td>-74.012268</td>\n",
       "      <td>40.706718</td>\n",
       "      <td>N</td>\n",
       "      <td>429</td>\n",
       "      <td>2016-04-06</td>\n",
       "      <td>2017-08-28 19:39:40</td>\n",
       "      <td>2016-04-06</td>\n",
       "      <td>2017-08-28 19:32:31</td>\n",
       "      <td>2016-04-06 19:00:00</td>\n",
       "      <td>2016-04-06 19:00:00</td>\n",
       "    </tr>\n",
       "    <tr>\n",
       "      <th>4</th>\n",
       "      <td>id2181028</td>\n",
       "      <td>2</td>\n",
       "      <td>2016-03-26 13:30:55</td>\n",
       "      <td>2016-03-26 13:38:10</td>\n",
       "      <td>1</td>\n",
       "      <td>-73.973053</td>\n",
       "      <td>40.793209</td>\n",
       "      <td>-73.972923</td>\n",
       "      <td>40.782520</td>\n",
       "      <td>N</td>\n",
       "      <td>435</td>\n",
       "      <td>2016-03-26</td>\n",
       "      <td>2017-08-28 13:38:10</td>\n",
       "      <td>2016-03-26</td>\n",
       "      <td>2017-08-28 13:30:55</td>\n",
       "      <td>2016-03-26 13:00:00</td>\n",
       "      <td>2016-03-26 13:00:00</td>\n",
       "    </tr>\n",
       "  </tbody>\n",
       "</table>\n",
       "</div>"
      ],
      "text/plain": [
       "          id  vendor_id     pickup_datetime    dropoff_datetime  \\\n",
       "0  id2875421          2 2016-03-14 17:24:55 2016-03-14 17:32:30   \n",
       "1  id2377394          1 2016-06-12 00:43:35 2016-06-12 00:54:38   \n",
       "2  id3858529          2 2016-01-19 11:35:24 2016-01-19 12:10:48   \n",
       "3  id3504673          2 2016-04-06 19:32:31 2016-04-06 19:39:40   \n",
       "4  id2181028          2 2016-03-26 13:30:55 2016-03-26 13:38:10   \n",
       "\n",
       "   passenger_count  pickup_longitude  pickup_latitude  dropoff_longitude  \\\n",
       "0                1        -73.982155        40.767937         -73.964630   \n",
       "1                1        -73.980415        40.738564         -73.999481   \n",
       "2                1        -73.979027        40.763939         -74.005333   \n",
       "3                1        -74.010040        40.719971         -74.012268   \n",
       "4                1        -73.973053        40.793209         -73.972923   \n",
       "\n",
       "   dropoff_latitude store_and_fwd_flag  trip_duration dropoff_date  \\\n",
       "0         40.765602                  N            455   2016-03-14   \n",
       "1         40.731152                  N            663   2016-06-12   \n",
       "2         40.710087                  N           2124   2016-01-19   \n",
       "3         40.706718                  N            429   2016-04-06   \n",
       "4         40.782520                  N            435   2016-03-26   \n",
       "\n",
       "         dropoff_time pickup_date         pickup_time  \\\n",
       "0 2017-08-28 17:32:30  2016-03-14 2017-08-28 17:24:55   \n",
       "1 2017-08-28 00:54:38  2016-06-12 2017-08-28 00:43:35   \n",
       "2 2017-08-28 12:10:48  2016-01-19 2017-08-28 11:35:24   \n",
       "3 2017-08-28 19:39:40  2016-04-06 2017-08-28 19:32:31   \n",
       "4 2017-08-28 13:38:10  2016-03-26 2017-08-28 13:30:55   \n",
       "\n",
       "  pickup_datetime_round_30 doproff_datetime_round_30  \n",
       "0      2016-03-14 17:00:00       2016-03-14 17:00:00  \n",
       "1      2016-06-12 00:00:00       2016-06-12 00:00:00  \n",
       "2      2016-01-19 11:00:00       2016-01-19 12:00:00  \n",
       "3      2016-04-06 19:00:00       2016-04-06 19:00:00  \n",
       "4      2016-03-26 13:00:00       2016-03-26 13:00:00  "
      ]
     },
     "execution_count": 8,
     "metadata": {},
     "output_type": "execute_result"
    }
   ],
   "source": [
    "train.head()"
   ]
  },
  {
   "cell_type": "code",
   "execution_count": 9,
   "metadata": {},
   "outputs": [],
   "source": [
    "# https://stackoverflow.com/questions/43577086/process-elements-with-same-id/43577275#43577275\n",
    "#https://stackoverflow.com/questions/29545704/fast-haversine-approximation-python-pandas\n",
    "# add distance types\n",
    "import math\n",
    "\n",
    "# 1. euclidean distance\n",
    "import pandas as pd\n",
    "import numpy as np\n",
    "\n",
    "\n",
    "\n",
    "def haversine_np(lon1, lat1, lon2, lat2):\n",
    "    \"\"\"\n",
    "    Calculate the great circle distance between two points\n",
    "    on the earth (specified in decimal degrees)\n",
    "\n",
    "    All args must be of equal length.    \n",
    "\n",
    "    \"\"\"\n",
    "    lon1, lat1, lon2, lat2 = map(np.radians, [lon1, lat1, lon2, lat2])\n",
    "\n",
    "    dlon = lon2 - lon1\n",
    "    dlat = lat2 - lat1\n",
    "\n",
    "    a = np.sin(dlat/2.0)**2 + np.cos(lat1) * np.cos(lat2) * np.sin(dlon/2.0)**2\n",
    "\n",
    "    c = 2 * np.arcsin(np.sqrt(a))\n",
    "    km = 6367 * c\n",
    "    return km"
   ]
  },
  {
   "cell_type": "code",
   "execution_count": 10,
   "metadata": {
    "collapsed": true
   },
   "outputs": [],
   "source": [
    "train['edist'] = haversine_np(train['pickup_longitude'],train['pickup_latitude'],train['dropoff_longitude'],train['dropoff_latitude'])"
   ]
  },
  {
   "cell_type": "code",
   "execution_count": 11,
   "metadata": {},
   "outputs": [
    {
     "data": {
      "text/plain": [
       "0    1.497580\n",
       "1    1.804374\n",
       "2    6.381090\n",
       "3    1.484566\n",
       "4    1.187842\n",
       "Name: edist, dtype: float64"
      ]
     },
     "execution_count": 11,
     "metadata": {},
     "output_type": "execute_result"
    }
   ],
   "source": [
    "train.edist.head()"
   ]
  },
  {
   "cell_type": "code",
   "execution_count": 12,
   "metadata": {},
   "outputs": [
    {
     "ename": "AttributeError",
     "evalue": "'DataFrame' object has no attribute 'z1'",
     "output_type": "error",
     "traceback": [
      "\u001b[1;31m---------------------------------------------------------------------------\u001b[0m",
      "\u001b[1;31mAttributeError\u001b[0m                            Traceback (most recent call last)",
      "\u001b[1;32m<ipython-input-12-f8dfd2629043>\u001b[0m in \u001b[0;36m<module>\u001b[1;34m()\u001b[0m\n\u001b[0;32m      3\u001b[0m \u001b[1;33m\u001b[0m\u001b[0m\n\u001b[0;32m      4\u001b[0m \u001b[1;31m#df['edist2'] = np.sqrt( (train.x1-train.x2)**2 + (train.y1-train.y2)**2 + (train.z1-train.z2)**2)\u001b[0m\u001b[1;33m\u001b[0m\u001b[1;33m\u001b[0m\u001b[0m\n\u001b[1;32m----> 5\u001b[1;33m \u001b[0mdf\u001b[0m\u001b[1;33m[\u001b[0m\u001b[1;34m'edist2'\u001b[0m\u001b[1;33m]\u001b[0m \u001b[1;33m=\u001b[0m \u001b[0mnp\u001b[0m\u001b[1;33m.\u001b[0m\u001b[0msqrt\u001b[0m\u001b[1;33m(\u001b[0m \u001b[1;33m(\u001b[0m\u001b[0mtrain\u001b[0m\u001b[1;33m.\u001b[0m\u001b[0mpickup_latitude\u001b[0m\u001b[1;33m-\u001b[0m\u001b[0mtrain\u001b[0m\u001b[1;33m.\u001b[0m\u001b[0mdropoff_latitude\u001b[0m\u001b[1;33m)\u001b[0m\u001b[1;33m**\u001b[0m\u001b[1;36m2\u001b[0m \u001b[1;33m+\u001b[0m \u001b[1;33m(\u001b[0m\u001b[0mtrain\u001b[0m\u001b[1;33m.\u001b[0m\u001b[0mpickup_longitude\u001b[0m\u001b[1;33m-\u001b[0m\u001b[0mtrain\u001b[0m\u001b[1;33m.\u001b[0m\u001b[0mdropoff_longitude\u001b[0m\u001b[1;33m)\u001b[0m\u001b[1;33m**\u001b[0m\u001b[1;36m2\u001b[0m \u001b[1;33m+\u001b[0m \u001b[1;33m(\u001b[0m\u001b[0mtrain\u001b[0m\u001b[1;33m.\u001b[0m\u001b[0mz1\u001b[0m\u001b[1;33m-\u001b[0m\u001b[0mtrain\u001b[0m\u001b[1;33m.\u001b[0m\u001b[0mz2\u001b[0m\u001b[1;33m)\u001b[0m\u001b[1;33m**\u001b[0m\u001b[1;36m2\u001b[0m\u001b[1;33m)\u001b[0m\u001b[1;33m\u001b[0m\u001b[0m\n\u001b[0m",
      "\u001b[1;32mC:\\Users\\moomoo\\Anaconda3\\lib\\site-packages\\pandas\\core\\generic.py\u001b[0m in \u001b[0;36m__getattr__\u001b[1;34m(self, name)\u001b[0m\n\u001b[0;32m   2968\u001b[0m             \u001b[1;32mif\u001b[0m \u001b[0mname\u001b[0m \u001b[1;32min\u001b[0m \u001b[0mself\u001b[0m\u001b[1;33m.\u001b[0m\u001b[0m_info_axis\u001b[0m\u001b[1;33m:\u001b[0m\u001b[1;33m\u001b[0m\u001b[0m\n\u001b[0;32m   2969\u001b[0m                 \u001b[1;32mreturn\u001b[0m \u001b[0mself\u001b[0m\u001b[1;33m[\u001b[0m\u001b[0mname\u001b[0m\u001b[1;33m]\u001b[0m\u001b[1;33m\u001b[0m\u001b[0m\n\u001b[1;32m-> 2970\u001b[1;33m             \u001b[1;32mreturn\u001b[0m \u001b[0mobject\u001b[0m\u001b[1;33m.\u001b[0m\u001b[0m__getattribute__\u001b[0m\u001b[1;33m(\u001b[0m\u001b[0mself\u001b[0m\u001b[1;33m,\u001b[0m \u001b[0mname\u001b[0m\u001b[1;33m)\u001b[0m\u001b[1;33m\u001b[0m\u001b[0m\n\u001b[0m\u001b[0;32m   2971\u001b[0m \u001b[1;33m\u001b[0m\u001b[0m\n\u001b[0;32m   2972\u001b[0m     \u001b[1;32mdef\u001b[0m \u001b[0m__setattr__\u001b[0m\u001b[1;33m(\u001b[0m\u001b[0mself\u001b[0m\u001b[1;33m,\u001b[0m \u001b[0mname\u001b[0m\u001b[1;33m,\u001b[0m \u001b[0mvalue\u001b[0m\u001b[1;33m)\u001b[0m\u001b[1;33m:\u001b[0m\u001b[1;33m\u001b[0m\u001b[0m\n",
      "\u001b[1;31mAttributeError\u001b[0m: 'DataFrame' object has no attribute 'z1'"
     ]
    }
   ],
   "source": [
    "#simple euclidean distance\n",
    "# https://stackoverflow.com/questions/39147379/euclidean-distance-of-points-coordinates-in-pandas-dataframe\n",
    "\n",
    "#df['edist2'] = np.sqrt( (train.x1-train.x2)**2 + (train.y1-train.y2)**2 + (train.z1-train.z2)**2)\n",
    "df['edist2'] = np.sqrt( (train.pickup_latitude-train.dropoff_latitude)**2 + (train.pickup_longitude-train.dropoff_longitude)**2 + (train.z1-train.z2)**2)"
   ]
  },
  {
   "cell_type": "code",
   "execution_count": null,
   "metadata": {},
   "outputs": [],
   "source": [
    "train.head()"
   ]
  },
  {
   "cell_type": "code",
   "execution_count": null,
   "metadata": {
    "collapsed": true
   },
   "outputs": [],
   "source": [
    "# merge the weather data\n",
    "# https://pandas.pydata.org/pandas-docs/stable/merging.html\n",
    "\n",
    "#import weather data\n",
    "weather = pd.read_csv('weather.csv')\n",
    "\n"
   ]
  },
  {
   "cell_type": "code",
   "execution_count": null,
   "metadata": {},
   "outputs": [],
   "source": [
    "# high level data \n",
    "print(weather.head())\n",
    "print(weather.shape)\n",
    "print(weather.describe())\n",
    "print(weather.dtypes)"
   ]
  },
  {
   "cell_type": "code",
   "execution_count": null,
   "metadata": {
    "collapsed": true
   },
   "outputs": [],
   "source": [
    "# convert weather dates from string to datetime\n",
    "\n",
    "weather['pickup_datetime'] = pd.to_datetime(weather['Time'])"
   ]
  },
  {
   "cell_type": "code",
   "execution_count": null,
   "metadata": {
    "collapsed": true
   },
   "outputs": [],
   "source": [
    "#reformat round datetime so it only picks up for the tens of minutes\n",
    "# create time that rounds to nearest 30 minutes\n",
    "# https://stackoverflow.com/questions/32344533/how-do-i-round-datetime-column-to-nearest-quarter-hour\n",
    "weather['pickup_datetime_round_30'] = weather['pickup_datetime'].apply(lambda dt: datetime.datetime(dt.year, dt.month, dt.day, dt.hour))\n"
   ]
  },
  {
   "cell_type": "code",
   "execution_count": null,
   "metadata": {},
   "outputs": [],
   "source": [
    "weather.shape"
   ]
  },
  {
   "cell_type": "code",
   "execution_count": null,
   "metadata": {},
   "outputs": [],
   "source": [
    "weather.head()"
   ]
  },
  {
   "cell_type": "code",
   "execution_count": null,
   "metadata": {},
   "outputs": [],
   "source": [
    "# delete weather duplicates\n",
    "# https://stackoverflow.com/questions/32093829/pythonpandas-removing-duplicates-based-on-two-columns-keeping-row-with-max-va\n",
    "\n",
    "weather_dist = weather.drop_duplicates(['pickup_datetime_round_30'], keep='last')"
   ]
  },
  {
   "cell_type": "code",
   "execution_count": null,
   "metadata": {},
   "outputs": [],
   "source": [
    "weather_dist.shape"
   ]
  },
  {
   "cell_type": "code",
   "execution_count": null,
   "metadata": {
    "collapsed": true
   },
   "outputs": [],
   "source": [
    "# weather_dist with pickup column name\n",
    "# https://stackoverflow.com/questions/34049618/how-to-add-a-suffix-to-each-column-name\n",
    "weather_dist_pu = weather_dist.add_suffix('_pu')\n",
    "weather_dist_do = weather_dist.add_suffix('_do') \n",
    "\n",
    "\n",
    "# rename columns to they are keys\n",
    "# sameple: df = df.rename(columns={'oldName1': 'newName1'\n",
    "weather_dist_pu = weather_dist_pu.rename(columns={'pickup_datetime_round_30_pu','pickup_datetime_round_30' })                        \n",
    "weather_dist_do = weather_dist_do.rename(columns={'pickup_datetime_round_30_do','dropoff_datetime_round_30' })"
   ]
  },
  {
   "cell_type": "code",
   "execution_count": null,
   "metadata": {},
   "outputs": [],
   "source": [
    "# prep for second weather merge for drop off weather\n",
    "weather_dist_do.head()\n",
    "\n"
   ]
  },
  {
   "cell_type": "code",
   "execution_count": null,
   "metadata": {},
   "outputs": [],
   "source": [
    "# merge the data\n",
    "# https://stackoverflow.com/questions/18792918/pandas-combining-2-data-frames-join-on-a-common-column\n",
    "#https://pandas.pydata.org/pandas-docs/stable/merging.html\n",
    "# https://stackoverflow.com/questions/21786490/pandas-left-outer-join-multiple-dataframes-on-multiple-columns\n",
    "\n",
    "\n",
    "trainm = pd.merge(train, weather_dist, on='pickup_datetime_round_30', how='left')\n",
    "trainm_pickup = pd.merge(train, weather_dist, on='pickup_datetime_round_30', how='left')\n",
    "trainm_pu = pd.merge(train, weather_dist_pu, on='pickup_datetime_round_30', how='left')\n",
    "trainm_pudo = pd.merge(trainm_pu, weather_dist_do, on='dropoff_datetime_round_30', how='left') #joins pu and no\n"
   ]
  },
  {
   "cell_type": "code",
   "execution_count": null,
   "metadata": {},
   "outputs": [],
   "source": [
    "#normalise\n",
    "\n",
    "trainm_pickup.shape"
   ]
  },
  {
   "cell_type": "code",
   "execution_count": null,
   "metadata": {},
   "outputs": [],
   "source": [
    "trainm_pickup.head()"
   ]
  },
  {
   "cell_type": "code",
   "execution_count": null,
   "metadata": {
    "collapsed": true
   },
   "outputs": [],
   "source": [
    "trainm_pudo.shape"
   ]
  },
  {
   "cell_type": "code",
   "execution_count": null,
   "metadata": {
    "collapsed": true
   },
   "outputs": [],
   "source": [
    "trainm_pudo.head()"
   ]
  },
  {
   "cell_type": "code",
   "execution_count": null,
   "metadata": {
    "collapsed": true
   },
   "outputs": [],
   "source": [
    "# start to normalise or is there more data missing?"
   ]
  },
  {
   "cell_type": "code",
   "execution_count": null,
   "metadata": {
    "collapsed": true
   },
   "outputs": [],
   "source": [
    "np.random.seed(12)\n",
    "num_observations = 1458644\n"
   ]
  }
 ],
 "metadata": {
  "kernelspec": {
   "display_name": "Python 3",
   "language": "python",
   "name": "python3"
  },
  "language_info": {
   "codemirror_mode": {
    "name": "ipython",
    "version": 3
   },
   "file_extension": ".py",
   "mimetype": "text/x-python",
   "name": "python",
   "nbconvert_exporter": "python",
   "pygments_lexer": "ipython3",
   "version": "3.6.1"
  }
 },
 "nbformat": 4,
 "nbformat_minor": 2
}
